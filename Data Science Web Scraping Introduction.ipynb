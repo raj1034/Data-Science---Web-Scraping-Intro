{
  "nbformat": 4,
  "nbformat_minor": 0,
  "metadata": {
    "colab": {
      "name": "Raj_Sandhu_Discussion_Forum_A_Notebook.ipynb",
      "provenance": []
    },
    "kernelspec": {
      "name": "python3",
      "display_name": "Python 3"
    },
    "language_info": {
      "name": "python"
    }
  },
  "cells": [
    {
      "cell_type": "markdown",
      "source": [
        "<b><h1> Sysc 4906 A Introduction To Data Science Discussion Forum 2 </b></h1>"
      ],
      "metadata": {
        "id": "LY2BXo5awAS-"
      }
    },
    {
      "cell_type": "markdown",
      "source": [
        "|    Title                        |    Author          |\n",
        "|---------------------------------|--------------------|\n",
        "| Top Grossing Movies Web Scraping| Raj Sandhu         |\n",
        "|                                 |                    |"
      ],
      "metadata": {
        "id": "OtcNvZRrtR85"
      }
    },
    {
      "cell_type": "markdown",
      "source": [
        "This notebook shall scrape data from a wikipedia page outlining top grossing movies and other related information and provide some interesting insights."
      ],
      "metadata": {
        "id": "eBYl0DaSwt1m"
      }
    },
    {
      "cell_type": "markdown",
      "source": [
        "<b> Import Libraries </b>"
      ],
      "metadata": {
        "id": "vvRtqhv8w62o"
      }
    },
    {
      "cell_type": "code",
      "execution_count": 143,
      "metadata": {
        "id": "qzgZFeDAtC1H"
      },
      "outputs": [],
      "source": [
        "import pandas as pd\n",
        "import requests\n",
        "import matplotlib.pyplot as plt\n",
        "import seaborn as sns"
      ]
    },
    {
      "cell_type": "markdown",
      "source": [
        "<b> Perform Web Scraping </b>"
      ],
      "metadata": {
        "id": "g9mxFq66xYJK"
      }
    },
    {
      "cell_type": "code",
      "source": [
        "url = \"https://en.wikipedia.org/wiki/List_of_highest-grossing_films\"\n",
        "\n",
        "# Print a useful error message if we cannot connect to the website from which data will be scraped.\n",
        "try :\n",
        "\n",
        "  #Get response from website. Make sure there is a connection.\n",
        "  response = requests.get(url)\n",
        "\n",
        "  #Scrape desired table from wiki page into a pandas dataframe.\n",
        "  df = pd.read_html(url)[0]\n",
        "\n",
        "  #Perform data cleaning operations to obtain value.\n",
        "  df = df.drop(\"Reference(s)\", axis = 1)\n",
        "  df[\"Worldwide gross\"] = df[\"Worldwide gross\"].str.replace(\"$\", \"\")\n",
        "  df[\"Worldwide gross\"] = df[\"Worldwide gross\"].str.replace(\",\", \"\")\n",
        "  df[\"Worldwide gross\"] = df[\"Worldwide gross\"].str.replace(\"$\", \"\")\n",
        "  df[\"Worldwide gross\"] = df[\"Worldwide gross\"].str.replace(\"F8\", \"\")\n",
        "  df[\"Worldwide gross\"] = df[\"Worldwide gross\"].str.replace(\"F\", \"\")\n",
        "  df[\"Peak\"] = df[\"Peak\"].str.replace(\"RK\", \"\")\n",
        "  df[\"Peak\"] = df[\"Peak\"].str.replace(\"TS3\", \"\")\n",
        "  df[\"Peak\"] = df[\"Peak\"].str.replace(\"DM2\", \"\")\n",
        "  df[\"Worldwide gross\"] = pd.to_numeric(df[\"Worldwide gross\"], downcast = \"integer\")\n",
        "  df[\"Year\"] = pd.to_numeric(df[\"Year\"], downcast = \"integer\")\n",
        "\n",
        "  #Output the full dataframe.\n",
        "  print(df.to_string()) \n",
        "except Exception as e :\n",
        "\n",
        "  #Print the error message. Can be useful if we want to implement logging purposes for this script in the future.\n",
        "  print(\"ERROR: \" + str(e))"
      ],
      "metadata": {
        "colab": {
          "base_uri": "https://localhost:8080/"
        },
        "id": "qt_lhpr2xlac",
        "outputId": "117e1964-d7ec-4360-c140-6080df9ef656"
      },
      "execution_count": 144,
      "outputs": [
        {
          "output_type": "stream",
          "name": "stdout",
          "text": [
            "    Rank Peak                                          Title  Worldwide gross  Year\n",
            "0      1    1                                         Avatar       2847246203  2009\n",
            "1      2    1                              Avengers: Endgame       2797501328  2019\n",
            "2      3    1                                        Titanic       2187425379  1997\n",
            "3      4    3                   Star Wars: The Force Awakens       2068223624  2015\n",
            "4      5    4                         Avengers: Infinity War       2048359754  2018\n",
            "5      6    6                        Spider-Man: No Way Home       1740845239  2021\n",
            "6      7    3                                 Jurassic World       1671713208  2015\n",
            "7      8    7                                  The Lion King       1656943394  2019\n",
            "8      9    3                                   The Avengers       1518812988  2012\n",
            "9     10    4                                      Furious 7       1516045911  2015\n",
            "10    11   10                                      Frozen II       1450026933  2019\n",
            "11    12    5                        Avengers: Age of Ultron       1402809540  2015\n",
            "12    13    9                                  Black Panther       1347280838  2018\n",
            "13    14    3  Harry Potter and the Deathly Hallows – Part 2       1342025430  2011\n",
            "14    15    9                       Star Wars: The Last Jedi       1332539889  2017\n",
            "15    16   12                 Jurassic World: Fallen Kingdom       1309484461  2018\n",
            "16    17    5                                         Frozen       1290000000  2013\n",
            "17    18   10                           Beauty and the Beast       1263521126  2017\n",
            "18    19   15                                  Incredibles 2       1242805359  2018\n",
            "19    20   11                        The Fate of the Furious       1238764765  2017\n",
            "20    21    5                                     Iron Man 3       1214811252  2013\n",
            "21    22   10                                        Minions       1159398397  2015\n",
            "22    23   12                     Captain America: Civil War       1153329473  2016\n",
            "23    24   20                                        Aquaman       1148485886  2018\n",
            "24    25    2  The Lord of the Rings: The Return of the King       1146030912  2003\n",
            "25    26   24                      Spider-Man: Far From Home       1131927996  2019\n",
            "26    27   23                                 Captain Marvel       1128274794  2019\n",
            "27    28    5                 Transformers: Dark of the Moon       1123794079  2011\n",
            "28    29    7                                        Skyfall       1108561013  2012\n",
            "29    30   10                Transformers: Age of Extinction       1104054072  2014\n",
            "30    31    7                          The Dark Knight Rises       1081142612  2012\n",
            "31    32   31                                          Joker       1074251311  2019\n",
            "32    33   32               Star Wars: The Rise of Skywalker       1074144248  2019\n",
            "33    34   30                                    Toy Story 4       1073394593  2019\n",
            "34    35    4                                    Toy Story 3       1066969703  2010\n",
            "35    36    3     Pirates of the Caribbean: Dead Man's Chest       1066179725  2006\n",
            "36    37   20                   Rogue One: A Star Wars Story       1056057273  2016\n",
            "37    38   34                                        Aladdin       1050693953  2019\n",
            "38    39    6    Pirates of the Caribbean: On Stranger Tides       1045713802  2011\n",
            "39    40   24                                Despicable Me 3       1034799409  2017\n",
            "40    41    1                                  Jurassic Park       1029939903  1993\n",
            "41    42   22                                   Finding Dory       1028570889  2016\n",
            "42    43    2      Star Wars: Episode I – The Phantom Menace       1027044677  1999\n",
            "43    44    5                            Alice in Wonderland       1025467110  2010\n",
            "44    45   24                                       Zootopia       1023784195  2016\n",
            "45    46   14              The Hobbit: An Unexpected Journey       1017003568  2012\n",
            "46    47    2       Harry Potter and the Philosopher's Stone       1006968171  2001\n",
            "47    48    4                                The Dark Knight       1005973645  2008\n",
            "48    49   10  Harry Potter and the Deathly Hallows – Part 1        976941486  2010\n",
            "49    50   19                                Despicable Me 2        970761885  2013\n"
          ]
        },
        {
          "output_type": "stream",
          "name": "stderr",
          "text": [
            "/usr/local/lib/python3.7/dist-packages/ipykernel_launcher.py:14: FutureWarning: The default value of regex will change from True to False in a future version. In addition, single character regular expressions will *not* be treated as literal strings when regex=True.\n",
            "  \n",
            "/usr/local/lib/python3.7/dist-packages/ipykernel_launcher.py:16: FutureWarning: The default value of regex will change from True to False in a future version. In addition, single character regular expressions will *not* be treated as literal strings when regex=True.\n",
            "  app.launch_new_instance()\n"
          ]
        }
      ]
    },
    {
      "cell_type": "markdown",
      "source": [
        "<b>Exploratory Data Visualizations to Obtain Value </b>"
      ],
      "metadata": {
        "id": "KYzeE8dIYhxP"
      }
    },
    {
      "cell_type": "code",
      "source": [
        "fig_dims = (10, 10)\n",
        "fig, ax = plt.subplots(figsize = fig_dims)\n",
        "sns.scatterplot(x = df[\"Year\"], y = df[\"Worldwide gross\"], data = df, ax = ax, ci = None)\n",
        "plt.title(\"Year of Movie Release vs Worldwide Gross Profit of Top Rated Movies\")\n",
        "plt.show()"
      ],
      "metadata": {
        "colab": {
          "base_uri": "https://localhost:8080/",
          "height": 621
        },
        "id": "nsFIZPCK0v9R",
        "outputId": "2cc44728-6da8-417a-86fc-e4a8b2f2e9bb"
      },
      "execution_count": 145,
      "outputs": [
        {
          "output_type": "display_data",
          "data": {
            "image/png": "[encoded data removed]",
            "text/plain": [
              "<Figure size 720x720 with 1 Axes>"
            ]
          },
          "metadata": {
            "needs_background": "light"
          }
        }
      ]
    },
    {
      "cell_type": "code",
      "source": [
        "fig_dims = (10, 10)\n",
        "fig, ax = plt.subplots(figsize = fig_dims)\n",
        "sns.scatterplot(x = df[\"Year\"], y = df[\"Rank\"], data = df, ax = ax, ci = None)\n",
        "plt.title(\"Year of Movie Release vs Rank\")\n",
        "plt.show()"
      ],
      "metadata": {
        "colab": {
          "base_uri": "https://localhost:8080/",
          "height": 621
        },
        "id": "w7A06UzvjdQp",
        "outputId": "3b142fe8-1584-435c-fb0c-d8c9a763345e"
      },
      "execution_count": 146,
      "outputs": [
        {
          "output_type": "display_data",
          "data": {
            "image/png": "[encoded data removed]",
            "text/plain": [
              "<Figure size 720x720 with 1 Axes>"
            ]
          },
          "metadata": {
            "needs_background": "light"
          }
        }
      ]
    }
  ]
}